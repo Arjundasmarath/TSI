{
 "cells": [
  {
   "cell_type": "code",
   "execution_count": 1,
   "id": "829d91f7",
   "metadata": {},
   "outputs": [],
   "source": [
    "# importing libraries\n",
    "import pandas as pd\n",
    "import numpy as np\n",
    "import matplotlib.pyplot as plt"
   ]
  },
  {
   "cell_type": "code",
   "execution_count": 2,
   "id": "c75f1615",
   "metadata": {},
   "outputs": [],
   "source": [
    "# Reading datasets\n",
    "dfs = pd.read_excel(r\"C:\\Users\\ArjunDas.H\\Documents\\TSI\\Analysis Sep_02\\StorageScrapPOShippedDatePOOrderDate.xlsx\")\n",
    "dfsku = pd.read_excel(r\"C:\\Users\\ArjunDas.H\\Documents\\TSI\\Analysis Sep_02\\skumaster.xlsx\")"
   ]
  },
  {
   "cell_type": "code",
   "execution_count": 3,
   "id": "6629dc2a",
   "metadata": {},
   "outputs": [],
   "source": [
    "# merging 2 dfs\n",
    "dfmrg = pd.merge(dfs,dfsku, how='left', left_on='productcode', right_on='Sku')"
   ]
  },
  {
   "cell_type": "code",
   "execution_count": 4,
   "id": "7ed8f1f2",
   "metadata": {},
   "outputs": [],
   "source": [
    "dfmrg['PO_freq'] = dfmrg['quantitypo']"
   ]
  },
  {
   "cell_type": "code",
   "execution_count": 7,
   "id": "a30b23a3",
   "metadata": {},
   "outputs": [
    {
     "data": {
      "text/plain": [
       "Index(['product', 'Unnamed: 1', 'shippeddate', 'squareftcost', 'QTYTotal',\n",
       "       'VALTotal', 'quantitypo', 'productcode', 'productname', 'source',\n",
       "       'month', 'year', 'squareft', 'price', 'receivedquantitypo',\n",
       "       'shippedquantitypo', 'unitcostpo', 'Sku', 'Itemname', 'Description',\n",
       "       'Fulfillmentvendor', 'POD', 'itemstatus', 'category', 'Brand1', 'Type',\n",
       "       'Subbrand1', 'brand', 'subbrand', 'amortization', 'availablequantity',\n",
       "       'physicalquantity', 'cost', 'poptype', 'GLCode', 'MattressItemID',\n",
       "       'Level', 'Size', 'description_guide', 'Language', 'Launch',\n",
       "       'OldMattressitemid', 'oldsku', 'isreplaced', 'Category_Guide',\n",
       "       'type_guide', 'SubCategory1', 'SubCategory2', 'PO_freq'],\n",
       "      dtype='object')"
      ]
     },
     "execution_count": 7,
     "metadata": {},
     "output_type": "execute_result"
    }
   ],
   "source": [
    "dfmrg.columns"
   ]
  },
  {
   "cell_type": "code",
   "execution_count": 5,
   "id": "d2d611a8",
   "metadata": {},
   "outputs": [],
   "source": [
    "grp1 = dfmrg.groupby('productcode').agg({'QTYTotal':'sum', 'squareftcost':'mean', 'quantitypo':'sum', 'PO_freq':'count'}).reset_index()"
   ]
  },
  {
   "cell_type": "code",
   "execution_count": 6,
   "id": "eab835a0",
   "metadata": {},
   "outputs": [
    {
     "data": {
      "text/html": [
       "<div>\n",
       "<style scoped>\n",
       "    .dataframe tbody tr th:only-of-type {\n",
       "        vertical-align: middle;\n",
       "    }\n",
       "\n",
       "    .dataframe tbody tr th {\n",
       "        vertical-align: top;\n",
       "    }\n",
       "\n",
       "    .dataframe thead th {\n",
       "        text-align: right;\n",
       "    }\n",
       "</style>\n",
       "<table border=\"1\" class=\"dataframe\">\n",
       "  <thead>\n",
       "    <tr style=\"text-align: right;\">\n",
       "      <th></th>\n",
       "      <th>count</th>\n",
       "      <th>unique</th>\n",
       "      <th>top</th>\n",
       "      <th>freq</th>\n",
       "      <th>mean</th>\n",
       "      <th>std</th>\n",
       "      <th>min</th>\n",
       "      <th>25%</th>\n",
       "      <th>50%</th>\n",
       "      <th>75%</th>\n",
       "      <th>max</th>\n",
       "    </tr>\n",
       "  </thead>\n",
       "  <tbody>\n",
       "    <tr>\n",
       "      <th>productcode</th>\n",
       "      <td>258</td>\n",
       "      <td>258</td>\n",
       "      <td>A2DPGH</td>\n",
       "      <td>1</td>\n",
       "      <td>NaN</td>\n",
       "      <td>NaN</td>\n",
       "      <td>NaN</td>\n",
       "      <td>NaN</td>\n",
       "      <td>NaN</td>\n",
       "      <td>NaN</td>\n",
       "      <td>NaN</td>\n",
       "    </tr>\n",
       "    <tr>\n",
       "      <th>QTYTotal</th>\n",
       "      <td>258.0</td>\n",
       "      <td>NaN</td>\n",
       "      <td>NaN</td>\n",
       "      <td>NaN</td>\n",
       "      <td>178.186047</td>\n",
       "      <td>1615.891549</td>\n",
       "      <td>0.0</td>\n",
       "      <td>0.0</td>\n",
       "      <td>0.0</td>\n",
       "      <td>14.75</td>\n",
       "      <td>25031.0</td>\n",
       "    </tr>\n",
       "    <tr>\n",
       "      <th>squareftcost</th>\n",
       "      <td>218.0</td>\n",
       "      <td>NaN</td>\n",
       "      <td>NaN</td>\n",
       "      <td>NaN</td>\n",
       "      <td>64.226646</td>\n",
       "      <td>219.394013</td>\n",
       "      <td>0.0</td>\n",
       "      <td>8.38</td>\n",
       "      <td>10.08</td>\n",
       "      <td>27.414242</td>\n",
       "      <td>2091.473103</td>\n",
       "    </tr>\n",
       "    <tr>\n",
       "      <th>quantitypo</th>\n",
       "      <td>258.0</td>\n",
       "      <td>NaN</td>\n",
       "      <td>NaN</td>\n",
       "      <td>NaN</td>\n",
       "      <td>1659.763566</td>\n",
       "      <td>6292.065205</td>\n",
       "      <td>1.0</td>\n",
       "      <td>150.0</td>\n",
       "      <td>428.0</td>\n",
       "      <td>1150.0</td>\n",
       "      <td>74975.0</td>\n",
       "    </tr>\n",
       "    <tr>\n",
       "      <th>PO_freq</th>\n",
       "      <td>258.0</td>\n",
       "      <td>NaN</td>\n",
       "      <td>NaN</td>\n",
       "      <td>NaN</td>\n",
       "      <td>1.914729</td>\n",
       "      <td>1.525559</td>\n",
       "      <td>1.0</td>\n",
       "      <td>1.0</td>\n",
       "      <td>1.0</td>\n",
       "      <td>2.0</td>\n",
       "      <td>14.0</td>\n",
       "    </tr>\n",
       "  </tbody>\n",
       "</table>\n",
       "</div>"
      ],
      "text/plain": [
       "              count unique     top freq         mean          std  min    25%  \\\n",
       "productcode     258    258  A2DPGH    1          NaN          NaN  NaN    NaN   \n",
       "QTYTotal      258.0    NaN     NaN  NaN   178.186047  1615.891549  0.0    0.0   \n",
       "squareftcost  218.0    NaN     NaN  NaN    64.226646   219.394013  0.0   8.38   \n",
       "quantitypo    258.0    NaN     NaN  NaN  1659.763566  6292.065205  1.0  150.0   \n",
       "PO_freq       258.0    NaN     NaN  NaN     1.914729     1.525559  1.0    1.0   \n",
       "\n",
       "                50%        75%          max  \n",
       "productcode     NaN        NaN          NaN  \n",
       "QTYTotal        0.0      14.75      25031.0  \n",
       "squareftcost  10.08  27.414242  2091.473103  \n",
       "quantitypo    428.0     1150.0      74975.0  \n",
       "PO_freq         1.0        2.0         14.0  "
      ]
     },
     "execution_count": 6,
     "metadata": {},
     "output_type": "execute_result"
    }
   ],
   "source": [
    "grp1.describe(include='all').T"
   ]
  },
  {
   "cell_type": "code",
   "execution_count": null,
   "id": "82740e7d",
   "metadata": {},
   "outputs": [],
   "source": []
  }
 ],
 "metadata": {
  "kernelspec": {
   "display_name": "Python 3 (ipykernel)",
   "language": "python",
   "name": "python3"
  },
  "language_info": {
   "codemirror_mode": {
    "name": "ipython",
    "version": 3
   },
   "file_extension": ".py",
   "mimetype": "text/x-python",
   "name": "python",
   "nbconvert_exporter": "python",
   "pygments_lexer": "ipython3",
   "version": "3.7.13"
  }
 },
 "nbformat": 4,
 "nbformat_minor": 5
}
