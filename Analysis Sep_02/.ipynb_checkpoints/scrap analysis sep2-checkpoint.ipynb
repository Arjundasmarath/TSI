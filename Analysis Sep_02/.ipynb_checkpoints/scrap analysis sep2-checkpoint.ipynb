{
 "cells": [
  {
   "cell_type": "code",
   "execution_count": 1,
   "id": "e0b88b85",
   "metadata": {},
   "outputs": [],
   "source": [
    "# importing libraries\n",
    "import pandas as pd\n",
    "import numpy as np\n",
    "import matplotlib.pyplot as plt"
   ]
  },
  {
   "cell_type": "code",
   "execution_count": 2,
   "id": "23b5e786",
   "metadata": {},
   "outputs": [],
   "source": [
    "# Reading datasets\n",
    "dfs = pd.read_excel(r\"C:\\Users\\ArjunDas.H\\Documents\\TSI\\Analysis Sep_02\\StorageScrapPOShippedDatePOOrderDate.xlsx\")\n",
    "dfsku = pd.read_excel(r\"C:\\Users\\ArjunDas.H\\Documents\\TSI\\Analysis Sep_02\\skumaster.xlsx\")"
   ]
  },
  {
   "cell_type": "code",
   "execution_count": 3,
   "id": "b3d2111c",
   "metadata": {},
   "outputs": [],
   "source": [
    "# merging 2 dfs\n",
    "dfmrg = pd.merge(dfs,dfsku, how='left', left_on='productcode', right_on='Sku')"
   ]
  },
  {
   "cell_type": "code",
   "execution_count": null,
   "id": "49c44148",
   "metadata": {},
   "outputs": [],
   "source": [
    "# exporting merged df to local\n",
    "dfmrg.to_excel(r\"C:\\Users\\ArjunDas.H\\Documents\\TSI\\Analysis Sep_02\\merged.xlsx\", index=False)"
   ]
  },
  {
   "cell_type": "code",
   "execution_count": null,
   "id": "8a180554",
   "metadata": {},
   "outputs": [],
   "source": [
    "dfmrg['PO_freq'] = dfmrg['quantitypo']"
   ]
  },
  {
   "cell_type": "code",
   "execution_count": null,
   "id": "ec6b613c",
   "metadata": {},
   "outputs": [],
   "source": [
    "# Group the merged df by sku\n",
    "grp1 = dfmrg.groupby('productcode').agg({'QTYTotal':'sum', 'squareftcost':'mean', 'quantitypo':'sum', 'PO_freq':'count'}).reset_index()"
   ]
  },
  {
   "cell_type": "code",
   "execution_count": null,
   "id": "374a4b4b",
   "metadata": {
    "scrolled": true
   },
   "outputs": [],
   "source": [
    "grp1.describe(include='all').T"
   ]
  },
  {
   "cell_type": "code",
   "execution_count": null,
   "id": "799b8fc3",
   "metadata": {},
   "outputs": [],
   "source": [
    "\n",
    "fig, ax1 = plt.subplots(figsize=(100, 8))\n",
    "ax2 = ax1.twinx()\n",
    "ax1.plot(grp1['productcode'], grp1['quantitypo'], 'g-')\n",
    "ax1.plot(grp1['productcode'], grp1['QTYTotal'], '--', color='orange')\n",
    "ax2.plot(grp1['productcode'], grp1['squareftcost'], 'o', color='blue')\n",
    "ax1.set_xlabel('X data')\n",
    "ax1.set_ylabel('PO & Scrap', color='g')\n",
    "ax2.set_ylabel('Average Sq ft Cost', color='b')\n",
    "ax1.tick_params(axis='x', rotation=90)\n",
    "plt.show()"
   ]
  },
  {
   "cell_type": "code",
   "execution_count": null,
   "id": "6a9ece83",
   "metadata": {},
   "outputs": [],
   "source": [
    "fig, ax1 = plt.subplots(figsize=(100, 8))\n",
    "ax2 = ax1.twinx()\n",
    "ax1.plot(grp1['productcode'], grp1['QTYTotal'], '--', color='orange')\n",
    "ax2.plot(grp1['productcode'], grp1['squareftcost'], 'o', color='blue')\n",
    "ax1.set_xlabel('X data')\n",
    "ax1.set_ylabel('Scrap', color='g')\n",
    "ax2.set_ylabel('Average Sq ft Cost', color='b')\n",
    "ax1.tick_params(axis='x', rotation=90)\n",
    "plt.show()"
   ]
  },
  {
   "cell_type": "markdown",
   "id": "8fb32864",
   "metadata": {},
   "source": [
    "## Analysis on Purchase Order"
   ]
  },
  {
   "cell_type": "code",
   "execution_count": null,
   "id": "d560903a",
   "metadata": {},
   "outputs": [],
   "source": [
    "skupo1 = grp1[grp1['quantitypo']>2000]['productcode'].tolist()\n",
    "hpo = dfmrg[dfmrg['productcode'].isin(skupo1)]\n",
    "hpo['Range'] = 'High'\n",
    "\n",
    "skupo2 = grp1[grp1['quantitypo']<500]['productcode'].tolist()\n",
    "lpo = dfmrg[dfmrg['productcode'].isin(skupo2)]\n",
    "lpo['Range'] = 'Low'\n",
    "\n",
    "df1 = pd.concat([hpo, lpo])\n",
    "\n",
    "\n",
    "dimentions = ['type_guide', 'SubCategory2', 'Category_Guide', 'Size', 'GLCode', 'brand', 'subbrand', 'Level', 'poptype', 'Type', 'itemstatus', 'amortization']\n",
    "\n",
    "fig, ax = plt.subplots(1, len(dimentions), figsize=(70, 5))\n",
    "for i, categorical_feature in enumerate(df1[dimentions]):\n",
    "#     x = hpo[categorical_feature].value_counts()\n",
    "    x = pd.crosstab(df1[categorical_feature],df1['Range'])\n",
    "    if len(x)>0:\n",
    "        x.plot(kind=\"bar\", ax=ax[i], xlabel=\"\").set_title(categorical_feature)\n",
    "        \n",
    "fig.show()"
   ]
  },
  {
   "cell_type": "code",
   "execution_count": null,
   "id": "d75e2106",
   "metadata": {},
   "outputs": [],
   "source": [
    "# skupo2 = grp1[grp1['quantitypo']<500]['productcode'].tolist()\n",
    "\n",
    "# lpo = dfmrg[dfmrg['productcode'].isin(skupo2)]\n",
    "\n",
    "# fig, ax = plt.subplots(1, len(dimentions), figsize=(70, 5))\n",
    "# for i, categorical_feature in enumerate(lpo[dimentions]):\n",
    "#     x = lpo[categorical_feature].value_counts()\n",
    "#     if len(x)>0:\n",
    "#         x.plot(kind=\"bar\", ax=ax[i]).set_title(categorical_feature)\n",
    "# fig.show()"
   ]
  },
  {
   "cell_type": "markdown",
   "id": "60bfd794",
   "metadata": {},
   "source": [
    "## Analysis On Scrap Qty"
   ]
  },
  {
   "cell_type": "code",
   "execution_count": null,
   "id": "eca88809",
   "metadata": {},
   "outputs": [],
   "source": [
    "skuscrp1 = grp1[grp1['QTYTotal']>200]['productcode'].tolist()\n",
    "hsrp = dfmrg[dfmrg['productcode'].isin(skuscrp1)]\n",
    "hsrp['Range'] = 'High'\n",
    "\n",
    "skuscrp2 = grp1[grp1['QTYTotal']<100]['productcode'].tolist()\n",
    "lsrp = dfmrg[dfmrg['productcode'].isin(skupo2)]\n",
    "lsrp['Range'] = 'Low'\n",
    "\n",
    "df2 = pd.concat([hsrp, lsrp])"
   ]
  },
  {
   "cell_type": "code",
   "execution_count": null,
   "id": "17a278b8",
   "metadata": {},
   "outputs": [],
   "source": [
    "fig, ax = plt.subplots(1, len(dimentions), figsize=(70, 5))\n",
    "for i, categorical_feature in enumerate(df2[dimentions]):\n",
    "    x = pd.crosstab(df2[categorical_feature],df2['Range'])\n",
    "    if len(x)>0:\n",
    "        x.plot(kind=\"bar\", ax=ax[i],  xlabel=\"\").set_title(categorical_feature)\n",
    "fig.show()"
   ]
  },
  {
   "cell_type": "code",
   "execution_count": null,
   "id": "f83133da",
   "metadata": {},
   "outputs": [],
   "source": [
    "# fig, ax = plt.subplots(1, len(dimentions), figsize=(70, 5))\n",
    "# for i, categorical_feature in enumerate(lsrp[dimentions]):\n",
    "#     x = lsrp[categorical_feature].value_counts()\n",
    "#     if len(x)>0:\n",
    "#         x.plot(kind=\"bar\", ax=ax[i]).set_title(categorical_feature)\n",
    "# fig.show()"
   ]
  },
  {
   "cell_type": "markdown",
   "id": "d2023472",
   "metadata": {},
   "source": [
    "## Analysis On Storage Cost"
   ]
  },
  {
   "cell_type": "code",
   "execution_count": null,
   "id": "5820864a",
   "metadata": {},
   "outputs": [],
   "source": [
    "skucost1 = grp1[grp1['squareftcost']>100]['productcode'].tolist()\n",
    "hcost = dfmrg[dfmrg['productcode'].isin(skuscrp1)]\n",
    "hcost['Range'] = 'High'\n",
    "\n",
    "skucost2 = grp1[grp1['squareftcost']<27]['productcode'].tolist()\n",
    "lcost = dfmrg[dfmrg['productcode'].isin(skupo2)]\n",
    "lcost['Range'] = 'Low'\n",
    "\n",
    "\n",
    "df3 = pd.concat([hcost, lcost])"
   ]
  },
  {
   "cell_type": "code",
   "execution_count": null,
   "id": "569a66cd",
   "metadata": {},
   "outputs": [],
   "source": [
    "fig, ax = plt.subplots(1, len(dimentions), figsize=(70, 5))\n",
    "for i, categorical_feature in enumerate(df3[dimentions]):\n",
    "    x = pd.crosstab(df3[categorical_feature],df3['Range'])\n",
    "    if len(x)>0:\n",
    "        x.plot(kind=\"bar\", ax=ax[i], xlabel=\"\").set_title(categorical_feature)\n",
    "fig.show()"
   ]
  },
  {
   "cell_type": "code",
   "execution_count": null,
   "id": "768c9d74",
   "metadata": {},
   "outputs": [],
   "source": [
    "# fig, ax = plt.subplots(1, len(dimentions), figsize=(70, 5))\n",
    "# for i, categorical_feature in enumerate(lcost[dimentions]):\n",
    "#     x = lcost[categorical_feature].value_counts()\n",
    "#     if len(x)>0:\n",
    "#         x.plot(kind=\"bar\", ax=ax[i]).set_title(categorical_feature)\n",
    "# fig.show()"
   ]
  },
  {
   "cell_type": "code",
   "execution_count": null,
   "id": "8493b9ce",
   "metadata": {},
   "outputs": [],
   "source": [
    "grp1.to_excel(r\"C:\\Users\\Kumaresan.C\\Desktop\\Scrap outputs\\grouped.xlsx\", index=False)"
   ]
  },
  {
   "cell_type": "code",
   "execution_count": null,
   "id": "2db01066",
   "metadata": {},
   "outputs": [],
   "source": []
  },
  {
   "cell_type": "code",
   "execution_count": null,
   "id": "9381e294",
   "metadata": {},
   "outputs": [],
   "source": []
  }
 ],
 "metadata": {
  "kernelspec": {
   "display_name": "Python 3 (ipykernel)",
   "language": "python",
   "name": "python3"
  },
  "language_info": {
   "codemirror_mode": {
    "name": "ipython",
    "version": 3
   },
   "file_extension": ".py",
   "mimetype": "text/x-python",
   "name": "python",
   "nbconvert_exporter": "python",
   "pygments_lexer": "ipython3",
   "version": "3.7.13"
  }
 },
 "nbformat": 4,
 "nbformat_minor": 5
}
